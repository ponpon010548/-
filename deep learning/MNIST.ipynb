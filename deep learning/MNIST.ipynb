{
 "cells": [
  {
   "cell_type": "code",
   "execution_count": 1,
   "metadata": {},
   "outputs": [],
   "source": [
    "%matplotlib inline\n",
    "import numpy as np\n",
    "import matplotlib.pyplot as plt"
   ]
  },
  {
   "cell_type": "code",
   "execution_count": 2,
   "metadata": {},
   "outputs": [
    {
     "name": "stderr",
     "output_type": "stream",
     "text": [
      "Using TensorFlow backend.\n"
     ]
    }
   ],
   "source": [
    "from keras.datasets import mnist"
   ]
  },
  {
   "cell_type": "code",
   "execution_count": 3,
   "metadata": {},
   "outputs": [],
   "source": [
    "(x0_train, y0_train), (x0_test, y0_test) = mnist.load_data()"
   ]
  },
  {
   "cell_type": "code",
   "execution_count": 4,
   "metadata": {},
   "outputs": [],
   "source": [
    "x_train = x0_train.reshape(60000, 28*28)\n",
    "x_test = x0_test.reshape(10000, 28*28)"
   ]
  },
  {
   "cell_type": "code",
   "execution_count": 5,
   "metadata": {},
   "outputs": [],
   "source": [
    "from keras.utils import np_utils"
   ]
  },
  {
   "cell_type": "code",
   "execution_count": 6,
   "metadata": {},
   "outputs": [],
   "source": [
    "y_train = np_utils.to_categorical(y0_train,10)"
   ]
  },
  {
   "cell_type": "code",
   "execution_count": 7,
   "metadata": {},
   "outputs": [],
   "source": [
    "y_test = np_utils.to_categorical(y0_test,10)"
   ]
  },
  {
   "cell_type": "code",
   "execution_count": 8,
   "metadata": {},
   "outputs": [],
   "source": [
    "from keras.models import Sequential\n",
    "from keras.layers import Dense, Activation\n",
    "from keras.optimizers import SGD"
   ]
  },
  {
   "cell_type": "code",
   "execution_count": 9,
   "metadata": {},
   "outputs": [],
   "source": [
    "model = Sequential()"
   ]
  },
  {
   "cell_type": "code",
   "execution_count": 10,
   "metadata": {},
   "outputs": [],
   "source": [
    "model.add(Dense(units=500, input_dim=784))\n",
    "model.add(Activation('sigmoid'))"
   ]
  },
  {
   "cell_type": "code",
   "execution_count": 11,
   "metadata": {},
   "outputs": [],
   "source": [
    "model.add(Dense(units=500))\n",
    "model.add(Activation('sigmoid'))"
   ]
  },
  {
   "cell_type": "code",
   "execution_count": 12,
   "metadata": {},
   "outputs": [],
   "source": [
    "model.add(Dense(units=10))\n",
    "model.add(Activation('softmax'))\n"
   ]
  },
  {
   "cell_type": "code",
   "execution_count": 13,
   "metadata": {},
   "outputs": [],
   "source": [
    "model.compile(loss='mse', optimizer=SGD(lr=0.1), metrics=['accuracy'])"
   ]
  },
  {
   "cell_type": "code",
   "execution_count": 14,
   "metadata": {},
   "outputs": [
    {
     "name": "stdout",
     "output_type": "stream",
     "text": [
      "Epoch 1/20\n",
      "60000/60000 [==============================] - 13s 216us/step - loss: 0.0829 - acc: 0.3609\n",
      "Epoch 2/20\n",
      "60000/60000 [==============================] - 13s 220us/step - loss: 0.0632 - acc: 0.63861s -\n",
      "Epoch 3/20\n",
      "60000/60000 [==============================] - 15s 251us/step - loss: 0.0453 - acc: 0.7686\n",
      "Epoch 4/20\n",
      "60000/60000 [==============================] - 16s 260us/step - loss: 0.0331 - acc: 0.8397\n",
      "Epoch 5/20\n",
      "60000/60000 [==============================] - 11s 182us/step - loss: 0.0257 - acc: 0.8706\n",
      "Epoch 6/20\n",
      "60000/60000 [==============================] - 13s 215us/step - loss: 0.0215 - acc: 0.8857\n",
      "Epoch 7/20\n",
      "60000/60000 [==============================] - 13s 216us/step - loss: 0.0188 - acc: 0.8958\n",
      "Epoch 8/20\n",
      "60000/60000 [==============================] - 12s 204us/step - loss: 0.0170 - acc: 0.9032\n",
      "Epoch 9/20\n",
      "60000/60000 [==============================] - 12s 205us/step - loss: 0.0157 - acc: 0.9093\n",
      "Epoch 10/20\n",
      "60000/60000 [==============================] - 12s 204us/step - loss: 0.0146 - acc: 0.9148\n",
      "Epoch 11/20\n",
      "60000/60000 [==============================] - 12s 207us/step - loss: 0.0138 - acc: 0.9186\n",
      "Epoch 12/20\n",
      "60000/60000 [==============================] - 12s 208us/step - loss: 0.0130 - acc: 0.9229\n",
      "Epoch 13/20\n",
      "60000/60000 [==============================] - 12s 206us/step - loss: 0.0124 - acc: 0.9270\n",
      "Epoch 14/20\n",
      "60000/60000 [==============================] - 12s 206us/step - loss: 0.0118 - acc: 0.9299\n",
      "Epoch 15/20\n",
      "60000/60000 [==============================] - 13s 212us/step - loss: 0.0114 - acc: 0.9328\n",
      "Epoch 16/20\n",
      "60000/60000 [==============================] - 12s 208us/step - loss: 0.0109 - acc: 0.9358\n",
      "Epoch 17/20\n",
      "60000/60000 [==============================] - 13s 213us/step - loss: 0.0105 - acc: 0.9379\n",
      "Epoch 18/20\n",
      "60000/60000 [==============================] - 13s 219us/step - loss: 0.0101 - acc: 0.9400\n",
      "Epoch 19/20\n",
      "60000/60000 [==============================] - 12s 208us/step - loss: 0.0098 - acc: 0.9419\n",
      "Epoch 20/20\n",
      "60000/60000 [==============================] - 12s 208us/step - loss: 0.0095 - acc: 0.9440\n"
     ]
    },
    {
     "data": {
      "text/plain": [
       "<keras.callbacks.History at 0x29077c6ac88>"
      ]
     },
     "execution_count": 14,
     "metadata": {},
     "output_type": "execute_result"
    }
   ],
   "source": [
    "model.fit(x_train, y_train, batch_size=100, epochs=20)"
   ]
  },
  {
   "cell_type": "code",
   "execution_count": 21,
   "metadata": {},
   "outputs": [],
   "source": [
    "from ipywidgets import interact_manual\n",
    "\n",
    "result = model.predict_classes(x_test)"
   ]
  },
  {
   "cell_type": "code",
   "execution_count": 22,
   "metadata": {},
   "outputs": [],
   "source": [
    "def 辨識(測試編號):\n",
    "    plt.imshow(x0_test[測試編號], cmap=\"Greys\")\n",
    "    print(\"神經網路判斷為:\", result[測試編號])"
   ]
  },
  {
   "cell_type": "code",
   "execution_count": 23,
   "metadata": {},
   "outputs": [
    {
     "data": {
      "application/vnd.jupyter.widget-view+json": {
       "model_id": "6b0e92e6b3a2430fbbcfc059f3be6e92",
       "version_major": 2,
       "version_minor": 0
      },
      "text/plain": [
       "A Jupyter Widget"
      ]
     },
     "metadata": {},
     "output_type": "display_data"
    }
   ],
   "source": [
    "interact_manual(辨識, 測試編號 = (0, 9999));"
   ]
  },
  {
   "cell_type": "code",
   "execution_count": null,
   "metadata": {},
   "outputs": [],
   "source": []
  }
 ],
 "metadata": {
  "kernelspec": {
   "display_name": "Tensorflow",
   "language": "python",
   "name": "tensorflow"
  },
  "language_info": {
   "codemirror_mode": {
    "name": "ipython",
    "version": 3
   },
   "file_extension": ".py",
   "mimetype": "text/x-python",
   "name": "python",
   "nbconvert_exporter": "python",
   "pygments_lexer": "ipython3",
   "version": "3.6.3"
  }
 },
 "nbformat": 4,
 "nbformat_minor": 2
}
